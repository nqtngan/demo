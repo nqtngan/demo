{
 "cells": [
  {
   "cell_type": "markdown",
   "id": "636d6b20",
   "metadata": {},
   "source": [
    "# Thực hành Dictionary"
   ]
  },
  {
   "cell_type": "markdown",
   "id": "4a1577c4",
   "metadata": {},
   "source": [
    "### Bài 1"
   ]
  },
  {
   "cell_type": "markdown",
   "id": "57583ad7",
   "metadata": {},
   "source": [
    "Cho list a và list b là 2 dãy số bất kỳ\n",
    "\n",
    "Hãy tìm những phần tử trong 2 list trùng nhau và in toàn bộ ra màn hình\n",
    "\n",
    "Ví dụ:\n",
    "\n",
    "a = [2,4,5,7,9]\n",
    "\n",
    "b = [2,5,10,12,45,65]\n",
    "\n",
    "in ra: 2, 5"
   ]
  },
  {
   "cell_type": "markdown",
   "id": "3bf52ad2",
   "metadata": {},
   "source": [
    "#### Khai báo list"
   ]
  },
  {
   "cell_type": "code",
   "execution_count": null,
   "id": "ff4b8cef",
   "metadata": {},
   "outputs": [],
   "source": []
  },
  {
   "cell_type": "markdown",
   "id": "f7b1767c",
   "metadata": {},
   "source": [
    "#### Code"
   ]
  },
  {
   "cell_type": "code",
   "execution_count": 5,
   "id": "8d0bc5c0",
   "metadata": {},
   "outputs": [
    {
     "name": "stdout",
     "output_type": "stream",
     "text": [
      "[2, 5]\n"
     ]
    }
   ],
   "source": [
    "a = [2,4,5,7,9]\n",
    "b = [2,5,10,12,45,65]\n",
    "c = []\n",
    "\n",
    "for i in b:\n",
    "    if i in a:\n",
    "        c.append(i)\n",
    "print(c)"
   ]
  },
  {
   "cell_type": "markdown",
   "id": "2646ccba",
   "metadata": {},
   "source": [
    "### Bài 2"
   ]
  },
  {
   "cell_type": "markdown",
   "id": "6cc6dc38",
   "metadata": {},
   "source": [
    "Cho một dictonary có các giá trị là các số nguyên\n",
    "\n",
    "Hãy viết hàm tìm key có giá trị lớn nhất"
   ]
  },
  {
   "cell_type": "markdown",
   "id": "7b92f0ce",
   "metadata": {},
   "source": [
    "#### Khai báo dictionary"
   ]
  },
  {
   "cell_type": "code",
   "execution_count": 4,
   "id": "3ec8ec73",
   "metadata": {},
   "outputs": [],
   "source": [
    "a = {'A' : 5, 'B' : 9, 'C': 8, 'D':3}"
   ]
  },
  {
   "cell_type": "markdown",
   "id": "65018ab5",
   "metadata": {},
   "source": [
    "#### Code"
   ]
  },
  {
   "cell_type": "code",
   "execution_count": 16,
   "id": "aa170d07",
   "metadata": {},
   "outputs": [
    {
     "name": "stdout",
     "output_type": "stream",
     "text": [
      "D\n"
     ]
    }
   ],
   "source": [
    "a = {'A' : 5, 'B' : 9, 'C': 8, 'D': 13}\n",
    "\n",
    "def giatrikeymax(a):\n",
    "    maxx = 0\n",
    "    for i in a:\n",
    "        if maxx < a[i]:\n",
    "            maxx = a[i]\n",
    "            key = i\n",
    "    return key\n",
    "                \n",
    "print(giatrikeymax(a))"
   ]
  },
  {
   "cell_type": "markdown",
   "id": "c562bc84",
   "metadata": {},
   "source": [
    "### Bài 3"
   ]
  },
  {
   "cell_type": "markdown",
   "id": "945e8929",
   "metadata": {},
   "source": [
    "Cho một dictonary có các key đều là chuỗi\n",
    "\n",
    "Hãy viết hàm trả về giá trị của key có độ dài chuỗi là lớn nhất"
   ]
  },
  {
   "cell_type": "markdown",
   "id": "1855bc8c",
   "metadata": {},
   "source": [
    "#### Khai báo dictionary"
   ]
  },
  {
   "cell_type": "code",
   "execution_count": 14,
   "id": "5ff9a0e5",
   "metadata": {},
   "outputs": [
    {
     "name": "stdout",
     "output_type": "stream",
     "text": [
      "1\n",
      "6\n",
      "3\n",
      "4\n"
     ]
    }
   ],
   "source": [
    "a = {'x' : 5, 'xxxxxx' : 6, 'xxxbbbbbb' : 7, 'xxxx' : 8}\n",
    "\n",
    "for i in a:\n",
    "    print(len(i))"
   ]
  },
  {
   "cell_type": "markdown",
   "id": "21fae59d",
   "metadata": {},
   "source": [
    "#### Code"
   ]
  },
  {
   "cell_type": "code",
   "execution_count": 24,
   "id": "b3c2194d",
   "metadata": {},
   "outputs": [
    {
     "name": "stdout",
     "output_type": "stream",
     "text": [
      "-7\n"
     ]
    }
   ],
   "source": [
    "a = {'xxx' : 5, 'xxxx' : -7, 'bb' : 7, 'x' : 8}\n",
    "\n",
    "def chuoikeymax(a):\n",
    "    maxx = 0\n",
    "    for i in a:\n",
    "        if maxx < len(i):\n",
    "            maxx = len(i)\n",
    "            giatri = a[i]\n",
    "    return giatri\n",
    "   \n",
    "print(chuoikeymax(a))"
   ]
  },
  {
   "cell_type": "markdown",
   "id": "205c6ef4",
   "metadata": {},
   "source": [
    "### Bài 4"
   ]
  },
  {
   "cell_type": "markdown",
   "id": "bd7ee674",
   "metadata": {},
   "source": [
    "Cho một list là một tập các chuỗi\n",
    "\n",
    "Hãy mã hóa list trên theo nguyên tắc sau:\n",
    "\n",
    "Mỗi một phần tử, ta mã hóa thành những con số theo thứ tự tăng dần\n",
    "\n",
    "Ví dụ:\n",
    "\n",
    "List = [\"đen\",\"vàng\",\"xanh\",\"vàng\",\"xanh\",\"đỏ\",\"hồng\"]\n",
    "\n",
    "List mã hóa = [0,1,2,1,2,3,4]\n",
    "\n",
    "- \"đen\" mã hóa thành 0\n",
    "- \"vàng\" mã hóa thành 1\n",
    "- \"xanh\" mã hóa thành 2\n",
    "- \"đỏ\" mã hòa thánh 3\n",
    "- \"hồng\" mã hòa thành 4"
   ]
  },
  {
   "cell_type": "markdown",
   "id": "e7ed3048",
   "metadata": {},
   "source": [
    "#### Khai báo"
   ]
  },
  {
   "cell_type": "code",
   "execution_count": null,
   "id": "7573ae07",
   "metadata": {},
   "outputs": [],
   "source": [
    "L = [\"đen\",\"vàng\",\"xanh\",\"vàng\",\"xanh\",\"đỏ\",\"hồng\"]"
   ]
  },
  {
   "cell_type": "markdown",
   "id": "9c61e63b",
   "metadata": {},
   "source": [
    "#### Code"
   ]
  },
  {
   "cell_type": "code",
   "execution_count": 20,
   "id": "3e3cdf86",
   "metadata": {},
   "outputs": [
    {
     "name": "stdout",
     "output_type": "stream",
     "text": [
      "[0, 1, 2, 1, 2, 3, 4]\n"
     ]
    }
   ],
   "source": [
    "L = [\"đen\",\"vàng\",\"xanh\",\"vàng\",\"xanh\",\"đỏ\",\"hồng\"]\n",
    "\n",
    "def mahoa(L):\n",
    "    Listmahoa = []\n",
    "    \n",
    "    for i in L:\n",
    "        if i == 'đen':\n",
    "            i=0\n",
    "            Listmahoa.append(i)\n",
    "            \n",
    "        elif i == 'vàng':\n",
    "            i=1\n",
    "            Listmahoa.append(i)  \n",
    "            \n",
    "        elif i == 'xanh':\n",
    "            i=2\n",
    "            Listmahoa.append(i)\n",
    "            \n",
    "        elif i == 'đỏ':\n",
    "            i=3\n",
    "            Listmahoa.append(i)\n",
    "            \n",
    "        elif i == 'hồng':\n",
    "            i=4\n",
    "            Listmahoa.append(i)\n",
    "    \n",
    "    return Listmahoa\n",
    "    \n",
    "print(mahoa(L))"
   ]
  },
  {
   "cell_type": "markdown",
   "id": "8de66962",
   "metadata": {},
   "source": [
    "### Bài 5"
   ]
  },
  {
   "cell_type": "markdown",
   "id": "1e5c416d",
   "metadata": {},
   "source": [
    "Hãy viết hàm từ một list mã hóa, trả về list gốc của bài 4"
   ]
  },
  {
   "cell_type": "markdown",
   "id": "4881b7b0",
   "metadata": {},
   "source": [
    "#### Khai báo"
   ]
  },
  {
   "cell_type": "code",
   "execution_count": null,
   "id": "602c7b70",
   "metadata": {},
   "outputs": [],
   "source": [
    "Listmahoa = [0, 1, 2, 1, 2, 3, 4]\n",
    "    "
   ]
  },
  {
   "cell_type": "markdown",
   "id": "9a738638",
   "metadata": {},
   "source": [
    "#### Code"
   ]
  },
  {
   "cell_type": "code",
   "execution_count": 21,
   "id": "df4fb3a1",
   "metadata": {},
   "outputs": [
    {
     "name": "stdout",
     "output_type": "stream",
     "text": [
      "['đen', 'vàng', 'xanh', 'vàng', 'xanh', 'đỏ', 'hồng']\n"
     ]
    }
   ],
   "source": [
    "Listmahoa = [0, 1, 2, 1, 2, 3, 4]\n",
    "\n",
    "def listgoc(L):\n",
    "    Listgoc = []\n",
    "    \n",
    "    for i in Listmahoa:\n",
    "        if i == 0:\n",
    "            i = 'đen'\n",
    "            Listgoc.append(i)\n",
    "            \n",
    "        elif i == 1:\n",
    "            i = 'vàng'\n",
    "            Listgoc.append(i)  \n",
    "            \n",
    "        elif i == 2:\n",
    "            i = 'xanh'\n",
    "            Listgoc.append(i)\n",
    "            \n",
    "        elif i == 3:\n",
    "            i = 'đỏ'\n",
    "            Listgoc.append(i)\n",
    "            \n",
    "        elif i == 4:\n",
    "            i = 'hồng'\n",
    "            Listgoc.append(i)\n",
    "    \n",
    "    return Listgoc\n",
    "    \n",
    "print(listgoc(Listmahoa))"
   ]
  },
  {
   "cell_type": "markdown",
   "id": "1a982dc5",
   "metadata": {},
   "source": [
    "### Bài 6"
   ]
  },
  {
   "cell_type": "markdown",
   "id": "726f6302",
   "metadata": {},
   "source": [
    "Một khách sạn có N phòng đôi được đánh số từ 1 đến N và M đoàn khách.\n",
    "\n",
    "Với mỗi đoàn khách, ta xếp mỗi cặp khách của đoàn vào một phòng trống theo thứ tự phòng tăng dần.\n",
    "\n",
    "Nếu đoàn khách có số người lẻ thì người khách cuối cùng được xếp vào một phòng trống tiếp theo.\n",
    "\n",
    "Nếu đã hết phòng còn trống thì ta sẽ xếp khách vào những phòng mới chỉ có 1 khách theo thứ tự phòng tăng dần.\n",
    "\n",
    "In ra số khách của mỗi phòng sau khi xếp\n",
    "\n",
    "Giả sử không có 2 đoàn khách nào đến cùng một lúc.\n",
    "\n",
    "#### Ví dụ 1:\n",
    "\n",
    "N = 7, M = 3\n",
    "\n",
    "doankhach = [3,7,3]\n",
    "\n",
    "Ta in: 2, 2, 2, 2, 2, 1, 2\n",
    "\n",
    "#### Ví dụ 2:\n",
    "\n",
    "N = 5, M = 3\n",
    "\n",
    "doankhach = [2,3,2]\n",
    "\n",
    "Ta in: 2, 2, 1, 2, 0"
   ]
  },
  {
   "cell_type": "markdown",
   "id": "e3346872",
   "metadata": {},
   "source": [
    "#### Khai báo"
   ]
  },
  {
   "cell_type": "code",
   "execution_count": null,
   "id": "9f73da45",
   "metadata": {},
   "outputs": [],
   "source": [
    "N = 7\n",
    "M = 3\n",
    "doankhach = [3,7,3]"
   ]
  },
  {
   "cell_type": "markdown",
   "id": "48db9c0f",
   "metadata": {},
   "source": [
    "Code"
   ]
  },
  {
   "cell_type": "code",
   "execution_count": 24,
   "id": "edbf669a",
   "metadata": {},
   "outputs": [
    {
     "name": "stdout",
     "output_type": "stream",
     "text": [
      "Nhập số phòng đôi : 6\n",
      "[1, 2, 3, 4, 5, 6]\n",
      "-------------\n",
      "Nhập số đoàn khách : 2\n",
      "Nhập số khách :4\n",
      "Nhập số khách :8\n",
      "doankhach = [4, 8]\n",
      "2.0\n",
      "4.0\n"
     ]
    }
   ],
   "source": [
    "sophong2 = int(input('Nhập số phòng đôi : '))\n",
    "N = []\n",
    "\n",
    "for i in range (1,sophong2+1):\n",
    "    if sophong2 > 0:\n",
    "        N.append(i)\n",
    "print(N)\n",
    "\n",
    "print('-------------')\n",
    "doankhach = []\n",
    "sodoan = int(input('Nhập số đoàn khách : '))\n",
    "   \n",
    "if sodoan > 0:\n",
    "    for i in range (1,sodoan+1):\n",
    "        sokhach = int(input('Nhập số khách :'))\n",
    "        doankhach.append(sokhach)\n",
    "\n",
    "print('doankhach =',doankhach)\n",
    "\n",
    "\n",
    "cachxep = []\n",
    "for i in doankhach:\n",
    "    if i%2 == 0:\n",
    "        botri = i/2\n",
    "    print(botri)\n",
    "    \n",
    "    \n",
    "    "
   ]
  },
  {
   "cell_type": "code",
   "execution_count": 25,
   "id": "f800b751",
   "metadata": {},
   "outputs": [
    {
     "name": "stdout",
     "output_type": "stream",
     "text": [
      "[2, 2, 2, 2, 2, 1, 2]\n"
     ]
    }
   ],
   "source": [
    "# Bài sửa :\n",
    "\n",
    "N = 7\n",
    "M = 3\n",
    "doankhach = [3,7,3]\n",
    "\n",
    "listphong = []\n",
    "phonghientai = 0\n",
    "full = False\n",
    "\n",
    "for i in doankhach:\n",
    "    while i != 0:\n",
    "        if not full:\n",
    "            if i >= 2:\n",
    "                listphong.append(2)\n",
    "                i -= 2\n",
    "            else:\n",
    "                listphong.append(1)\n",
    "                i = 0\n",
    "            phonghientai += 1\n",
    "            \n",
    "            if phonghientai == N:\n",
    "                full = True\n",
    "                phonghientai = 0\n",
    "        else:\n",
    "            if listphong[phonghientai] == 1:\n",
    "                listphong[phonghientai] += 1\n",
    "                i -= 1\n",
    "            phonghientai += 1\n",
    "            \n",
    "print(listphong)"
   ]
  }
 ],
 "metadata": {
  "kernelspec": {
   "display_name": "Python 3 (ipykernel)",
   "language": "python",
   "name": "python3"
  },
  "language_info": {
   "codemirror_mode": {
    "name": "ipython",
    "version": 3
   },
   "file_extension": ".py",
   "mimetype": "text/x-python",
   "name": "python",
   "nbconvert_exporter": "python",
   "pygments_lexer": "ipython3",
   "version": "3.9.7"
  }
 },
 "nbformat": 4,
 "nbformat_minor": 5
}
