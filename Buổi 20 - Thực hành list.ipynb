{
 "cells": [
  {
   "cell_type": "markdown",
   "id": "011431b9",
   "metadata": {},
   "source": [
    "# Thực hành List\n",
    "\n",
    "##### Chú ý: list một dãy số người ta còn gọi là một mảng\n",
    "\n",
    "### Bài 1"
   ]
  },
  {
   "cell_type": "markdown",
   "id": "61a90628",
   "metadata": {},
   "source": [
    "Viết hàm với đầu vào là một mảng, hãy tính và trả về giá trị trung bình của mảng"
   ]
  },
  {
   "cell_type": "code",
   "execution_count": 2,
   "id": "bcc197d5",
   "metadata": {},
   "outputs": [
    {
     "name": "stdout",
     "output_type": "stream",
     "text": [
      "3.0\n"
     ]
    }
   ],
   "source": [
    "def tinhtb(l):\n",
    "    s=0\n",
    "    for i in l:\n",
    "        s+=i\n",
    "    return s/len(l)\n",
    "\n",
    "l = [1,2,3,4,5]\n",
    "print(tinhtb(l))"
   ]
  },
  {
   "cell_type": "markdown",
   "id": "30d26c1b",
   "metadata": {},
   "source": [
    "### Bài 2"
   ]
  },
  {
   "cell_type": "markdown",
   "id": "674ef26c",
   "metadata": {},
   "source": [
    "Viết hàm với đầu vào là một mảng, hãy tìm và trả về giá trị âm lớn nhất trong mảng"
   ]
  },
  {
   "cell_type": "code",
   "execution_count": 1,
   "id": "1a9cb505",
   "metadata": {},
   "outputs": [
    {
     "name": "stdout",
     "output_type": "stream",
     "text": [
      "-0.2\n"
     ]
    }
   ],
   "source": [
    "def giatriamlonnhat(l):\n",
    "    maxx = -1\n",
    "    for i in l:\n",
    "        if i<0:\n",
    "            maxx = i\n",
    "            break\n",
    "            \n",
    "    for i in l:\n",
    "        if i>= maxx and i<0:\n",
    "            maxx= i\n",
    "    return maxx\n",
    "\n",
    "l = [5,-6,-4,-2,-0.5,-0.2]\n",
    "print(giatriamlonnhat(l))"
   ]
  },
  {
   "cell_type": "markdown",
   "id": "95cfaa74",
   "metadata": {},
   "source": [
    "### Bài 3"
   ]
  },
  {
   "cell_type": "markdown",
   "id": "5361a4b8",
   "metadata": {},
   "source": [
    "Viết hàm với giá trị đầu vào là một mảng, hãy sắp xếp và trả về mảng có độ lớn tăng dần"
   ]
  },
  {
   "cell_type": "code",
   "execution_count": 23,
   "id": "91ad4d5d",
   "metadata": {},
   "outputs": [
    {
     "name": "stdout",
     "output_type": "stream",
     "text": [
      "[6, 5, 4, 3, 2, 1, 0, 7]\n",
      "[5, 4, 3, 2, 1, 0, 6, 7]\n",
      "[4, 3, 2, 1, 0, 5, 6, 7]\n",
      "[3, 2, 1, 0, 4, 5, 6, 7]\n",
      "[2, 1, 0, 3, 4, 5, 6, 7]\n",
      "[1, 0, 2, 3, 4, 5, 6, 7]\n",
      "[0, 1, 2, 3, 4, 5, 6, 7]\n",
      "[0, 1, 2, 3, 4, 5, 6, 7]\n"
     ]
    }
   ],
   "source": [
    "l=[7,6,5,4,3,2,1,0]\n",
    "def sapxep(l):\n",
    "    for j in range (1,len(l)):\n",
    "        for i in range (1,len(l)):\n",
    "            a=0\n",
    "            if l[i-1]>l[i]:\n",
    "                a=l[i-1]\n",
    "                l[i-1]=l[i]\n",
    "                l[i]=a\n",
    "        print (l)\n",
    "    return l\n",
    "\n",
    "print(sapxep(l))"
   ]
  },
  {
   "cell_type": "code",
   "execution_count": 26,
   "id": "e1882d08",
   "metadata": {},
   "outputs": [
    {
     "name": "stdout",
     "output_type": "stream",
     "text": [
      "[0, 1, 2, 3, 4, 5, 6, 7]\n"
     ]
    }
   ],
   "source": [
    "l=[7,6,5,4,3,2,1,0]\n",
    "\n",
    "def sapxep(l):\n",
    "    chuoi = []\n",
    "    for i in range (0,len(l)-1):\n",
    "        for j in range (i+1, len(l)):\n",
    "            if l[i] > l[j]:\n",
    "                a = l[i]\n",
    "                l[i]=l[j]\n",
    "                l[j]=a\n",
    "    return l\n",
    "\n",
    "print(sapxep(l))   "
   ]
  },
  {
   "cell_type": "markdown",
   "id": "025cc0cb",
   "metadata": {},
   "source": [
    "### Bài 4"
   ]
  },
  {
   "cell_type": "markdown",
   "id": "dbf885a9",
   "metadata": {},
   "source": [
    "Viết hàm với giá trị đầu vào là một mảng, tìm x sao cho đoạn [-x,x] chứa tất cả các giá trị có trong mảng"
   ]
  },
  {
   "cell_type": "code",
   "execution_count": 30,
   "id": "84606ea2",
   "metadata": {},
   "outputs": [
    {
     "name": "stdout",
     "output_type": "stream",
     "text": [
      "5\n"
     ]
    }
   ],
   "source": [
    "def giatri(l):\n",
    "    x = 0\n",
    "    maxx = l[0]\n",
    "    for i in l:\n",
    "        if maxx < abs(i):\n",
    "            maxx = abs(i)\n",
    "    return maxx\n",
    "\n",
    "l = [-4,1,3,5,-3,-4]\n",
    "print(giatri(l))"
   ]
  },
  {
   "cell_type": "markdown",
   "id": "98aa10b5",
   "metadata": {},
   "source": [
    "### Bài 5"
   ]
  },
  {
   "cell_type": "markdown",
   "id": "a7fe3092",
   "metadata": {},
   "source": [
    "Viết hàm với giá trị đầu vào là một mảng, Hãy tìm một vị trí trong mảng thỏa hai điền kiện: có hai giá trị lân cận và giá trị tại vị trí đó bằng tích hai giá trị lân cận. Nếu mảng không tồn tại giá trị như vậy thì hàm trả về giá trị - 1"
   ]
  },
  {
   "cell_type": "code",
   "execution_count": 8,
   "id": "9d55cb01",
   "metadata": {},
   "outputs": [
    {
     "name": "stdout",
     "output_type": "stream",
     "text": [
      "2\n"
     ]
    }
   ],
   "source": [
    "def giatrilancan(l):\n",
    "    \n",
    "    for i in range (1,len(l)-2):\n",
    "        if l[i] == l[i-1]*l[i+1]:\n",
    "            return i\n",
    "    return -1\n",
    "\n",
    "l = [1,1,2,2,2,2,2,3,4]\n",
    "print(giatrilancan(l))"
   ]
  },
  {
   "cell_type": "markdown",
   "id": "035325d7",
   "metadata": {},
   "source": [
    "### Bài 6"
   ]
  },
  {
   "cell_type": "markdown",
   "id": "e2d35127",
   "metadata": {},
   "source": [
    "Viết hàm có giá trị đầu vào là một mảng. Hãy tìm giá trị đầu tiên trong mảng một chiều các số nguyên có chữ sốđầu tiên là chữ số lẻ. Nếu trong mảng không tồn tại giá trị như vậy thì hàm sẽ trả về giá trị 0."
   ]
  },
  {
   "cell_type": "code",
   "execution_count": 10,
   "id": "b8a8b8a2",
   "metadata": {},
   "outputs": [
    {
     "name": "stdout",
     "output_type": "stream",
     "text": [
      "[1, 32]\n"
     ]
    }
   ],
   "source": [
    "def sole(l):\n",
    "    A = []    \n",
    "    for i in l:\n",
    "        a=i\n",
    "        while i>=1:\n",
    "            i=i/10\n",
    "        if int(i*10)%2 != 0:\n",
    "            A.append(a)\n",
    "    return A\n",
    "\n",
    "l = [1,32,24,4]\n",
    "print(sole(l))"
   ]
  },
  {
   "cell_type": "markdown",
   "id": "da270d1a",
   "metadata": {},
   "source": [
    "### Bài 7"
   ]
  },
  {
   "cell_type": "markdown",
   "id": "079fdafe",
   "metadata": {},
   "source": [
    "Viết hàm có giá trị đầu vào là một mảng. Hãy tìm giá trị đầu tiên trong mảng có dạng 2^k. Nếu mảng không tồn tại giá trị dạng 2^k thì hàm sẽ trả về giá trị 0."
   ]
  },
  {
   "cell_type": "code",
   "execution_count": 6,
   "id": "f9311f33",
   "metadata": {},
   "outputs": [
    {
     "name": "stdout",
     "output_type": "stream",
     "text": [
      "25\n"
     ]
    }
   ],
   "source": [
    "def dang2k(L):\n",
    "    for i in L:\n",
    "        if int(i/10)==2:\n",
    "            return i\n",
    "    return 0\n",
    "\n",
    "L = [1,2,4,25,6]\n",
    "print(dang2k(L))"
   ]
  },
  {
   "cell_type": "code",
   "execution_count": 18,
   "id": "febf230f",
   "metadata": {},
   "outputs": [
    {
     "name": "stdout",
     "output_type": "stream",
     "text": [
      "[11, 0, 15, 0, 8, 14, 14, 15, 7, 2, 4, 1, 16, 8, 19, 11, 8, 3, 6, 10, 3, 8, 8, 8, 9, 8, 14, 4, 14, 18]\n",
      "8\n"
     ]
    }
   ],
   "source": [
    "# Bai sua :\n",
    "def check2muk(a):\n",
    "    if a > 0:\n",
    "        while a != 1:\n",
    "            if (a % 2 == 0):\n",
    "                a = a // 2\n",
    "            else:\n",
    "                return False\n",
    "        return True\n",
    "    return False\n",
    "\n",
    "def main(a):\n",
    "    for i in a:\n",
    "        if (check2muk(i)):\n",
    "            return i\n",
    "    return 0\n",
    "\n",
    "a = []\n",
    "for i in range(30):\n",
    "    a.append(random.randint(0,20))\n",
    "print(a)\n",
    "print(main(a))"
   ]
  },
  {
   "cell_type": "markdown",
   "id": "80c8ab17",
   "metadata": {},
   "source": [
    "### Bài 8"
   ]
  },
  {
   "cell_type": "markdown",
   "id": "47c3a2e2",
   "metadata": {},
   "source": [
    "Viết hàm có giá trị đầu vào là một mảng. Hãy tìm giá trị thỏa điều kiện toàn chữ số lẻ và là giá trị lớn nhất thỏa điều kiện ấy trong mảng (nếu mảng không có giá trị thỏa điều kiện trên thì hàm trả về giá trị 0)"
   ]
  },
  {
   "cell_type": "code",
   "execution_count": 9,
   "id": "f8740d98",
   "metadata": {},
   "outputs": [
    {
     "name": "stdout",
     "output_type": "stream",
     "text": [
      "25\n"
     ]
    }
   ],
   "source": [
    "def solemaxx(L):\n",
    "    for i in L:\n",
    "        if i%2 == 0:\n",
    "            return 0\n",
    "        elif i%2 != 0:\n",
    "            maxx = 0\n",
    "            if i>maxx:\n",
    "                maxx = i\n",
    "    return maxx\n",
    "\n",
    "L = [3,5,1,7,25]\n",
    "print(solemaxx(L))"
   ]
  },
  {
   "cell_type": "code",
   "execution_count": 10,
   "id": "a61ef314",
   "metadata": {},
   "outputs": [
    {
     "name": "stdout",
     "output_type": "stream",
     "text": [
      "[6520, 4814, 3527, 7435, 9442, 7258, 4134, 1834, 5666, 9064, 1420, 8306, 2015, 9738, 7069, 1329, 5885, 4940, 7633, 8673, 5997, 6930, 7486, 9770, 7345, 7737, 9829, 6131, 1086, 6839]\n",
      "7737\n"
     ]
    }
   ],
   "source": [
    "# Bai sua :\n",
    "import random\n",
    "\n",
    "def checktoanchusole(a):\n",
    "    if a > 0:\n",
    "        while a != 0:\n",
    "            if ((a % 10) % 2 == 0):\n",
    "                return False\n",
    "            a = a // 10\n",
    "        return True\n",
    "    else:\n",
    "        return False\n",
    "\n",
    "def max11(l):\n",
    "    max1 = l[0]\n",
    "    for i in range(1,len(l)):\n",
    "        if max1 <= l[i]:\n",
    "            max1 = l[i]\n",
    "    return max1\n",
    "\n",
    "def main(a):\n",
    "    b = []\n",
    "    for i in a:\n",
    "        if (checktoanchusole(i)):\n",
    "            b.append(i)\n",
    "    if len(b) == 0:\n",
    "        return 0\n",
    "    return max(b)\n",
    "\n",
    "a = []\n",
    "for i in range(30):\n",
    "    a.append(random.randint(1000,9999))\n",
    "print(a)\n",
    "print(main(a))"
   ]
  },
  {
   "cell_type": "markdown",
   "id": "8a09bf26",
   "metadata": {},
   "source": [
    "### Bài 9"
   ]
  },
  {
   "cell_type": "markdown",
   "id": "09f9a4c6",
   "metadata": {},
   "source": [
    "Trong kỳ thi học sinh giỏi môn Tin học, một học sinh là người đạt giải đặc biệt. Ban tổ chức cho phép học sinh đó chọn các phần thưởng cho mình.\n",
    "\n",
    "Các phần thưởng xếp thành một dãy được đánh số từ 1 đến N (0 ≤ N ≤ 10000), phần thưởng thứ i có giá trị là Ai (1 ≤ Ai ≤ 100).\n",
    "\n",
    "Học sinh được phép chọn các phần thưởng cho mình theo nguyên tắc không chọn 3 phần thưởng liên tiếp nhau trong dãy.\n",
    "\n",
    "Viết chương trình để máy tính hướng dẫn học sinh đó chọn các phần thưởng sao cho tổng giá trị của các phần thưởng nhận được là lớn nhất.\n",
    "\n",
    "Nhập vào N, sau đó nhập n lần các giá trị Ai\n",
    "\n",
    "In ra giá trị lớn nhất học sinh được chọn, và các vị trí mà học sinh cần chọn để đạt được giá trị lớn nhất"
   ]
  },
  {
   "cell_type": "code",
   "execution_count": null,
   "id": "c350a1e9",
   "metadata": {},
   "outputs": [],
   "source": []
  }
 ],
 "metadata": {
  "kernelspec": {
   "display_name": "Python 3 (ipykernel)",
   "language": "python",
   "name": "python3"
  },
  "language_info": {
   "codemirror_mode": {
    "name": "ipython",
    "version": 3
   },
   "file_extension": ".py",
   "mimetype": "text/x-python",
   "name": "python",
   "nbconvert_exporter": "python",
   "pygments_lexer": "ipython3",
   "version": "3.9.7"
  }
 },
 "nbformat": 4,
 "nbformat_minor": 5
}
