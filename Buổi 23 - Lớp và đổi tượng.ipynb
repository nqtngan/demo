{
 "cells": [
  {
   "cell_type": "markdown",
   "id": "3f0d50eb",
   "metadata": {},
   "source": [
    "# Lớp và đối tượng\n",
    "\n",
    "### Lớp (class) là gì?\n",
    "\n",
    "Lớp (Class) là tập hợp tất cả các đối tượng có chung các thuộc tính và hành vi."
   ]
  },
  {
   "cell_type": "markdown",
   "id": "9b4627e5",
   "metadata": {},
   "source": [
    "### Khai báo lớp\n",
    "\n",
    "`class <tên lớp>:\n",
    "    <khai báo biến>\n",
    "    <khai báo hàm>`\n",
    "    \n",
    "Ví dụ:\n",
    "\n",
    "`class giangvien:\n",
    "    ten = \"Nguyễn Tâm Điền\"\n",
    "    mon = \"Python căn bản\"\n",
    "    def inten(self):\n",
    "        print(self.ten)        \n",
    "dien = giangvien()\n",
    "print(dien.mon)\n",
    "dien.inten()`\n",
    "\n",
    "##### Lưu ý:\n",
    "\n",
    "- giangvien là 1 lớp\n",
    "- dien là 1 đối tượng có tất cả thuộc tính (có biến ten, mon và hàm inten) của lớp giangvien\n",
    "- inten là 1 hàm trong lớp giangvien\n",
    "- dien.mon là 1 biến trong đối tượng dien\n",
    "- dien.inten() là cách để gọi hàm inten trong đối tượng dien\n",
    "\n",
    "\n",
    "<b> Hãy chạy thử đoạn lệnh ở ví dụ: </b>"
   ]
  },
  {
   "cell_type": "code",
   "execution_count": 1,
   "id": "29beecd4",
   "metadata": {},
   "outputs": [
    {
     "name": "stdout",
     "output_type": "stream",
     "text": [
      "Python căn bản\n",
      "Nguyễn Tâm Điền\n"
     ]
    }
   ],
   "source": [
    "class giangvien:\n",
    "    ten = \"Nguyễn Tâm Điền\"\n",
    "    mon = \"Python căn bản\"\n",
    "    \n",
    "    def inten(self):\n",
    "        print(self.ten)   \n",
    "        \n",
    "dien = giangvien()\n",
    "print(dien.mon)\n",
    "dien.inten()"
   ]
  },
  {
   "cell_type": "markdown",
   "id": "99d41a25",
   "metadata": {},
   "source": [
    "<b> Hãy tạo 1 class hocvien với 1 biến và 1 def giúp in giá trị biến đó ra màn hình </b>"
   ]
  },
  {
   "cell_type": "code",
   "execution_count": 13,
   "id": "57ada50b",
   "metadata": {},
   "outputs": [
    {
     "name": "stdout",
     "output_type": "stream",
     "text": [
      "Ngân\n"
     ]
    }
   ],
   "source": [
    "class hocvien:\n",
    "    ten = 'Ngân'\n",
    "    \n",
    "    def inten(self):\n",
    "        print(self.ten)\n",
    "\n",
    "ngan = hocvien()\n",
    "ngan.inten()"
   ]
  },
  {
   "cell_type": "markdown",
   "id": "a3d22f1b",
   "metadata": {},
   "source": [
    "### Tham số self\n",
    "\n",
    "Tham số self là tham số được sử dụng khi khai báo các hàm trong lớp\n",
    "\n",
    "Tham số self miêu tả chính lớp ta đang xây dựng, giúp chúng ta sử dụng được những biến và hàm của lớp đó\n",
    "\n",
    "Ví dụ:\n",
    "\n",
    "`class giangvien:\n",
    "    ten = \"Nguyễn Tâm Điền\"\n",
    "    mon = \"Python căn bản\"\n",
    "    def doiten(self,ten):\n",
    "        self.ten = ten\n",
    "    def inten(self):\n",
    "        print(self.ten)        \n",
    "dien = giangvien()\n",
    "dien.doiten(\"NTD\")\n",
    "dien.inten()`\n",
    "\n",
    "Sau khi thực hiện đoạn code trên, giá trị của biến ten trong đối tượng dien đã bị thay đổi thành \"NTD\"\n",
    "\n",
    "<b> Hãy chạy thử đoạn lệnh ở ví dụ: </b>"
   ]
  },
  {
   "cell_type": "code",
   "execution_count": 14,
   "id": "db6f6511",
   "metadata": {},
   "outputs": [
    {
     "name": "stdout",
     "output_type": "stream",
     "text": [
      "NTD\n"
     ]
    }
   ],
   "source": [
    "class giangvien:\n",
    "    ten = \"Nguyễn Tâm Điền\"\n",
    "    mon = \"Python căn bản\"\n",
    "    \n",
    "    def doiten(self,ten):\n",
    "        self.ten = ten\n",
    "        \n",
    "    def inten(self):\n",
    "        print(self.ten)  \n",
    "        \n",
    "dien = giangvien()\n",
    "dien.doiten(\"NTD\")\n",
    "dien.inten()"
   ]
  },
  {
   "cell_type": "markdown",
   "id": "99c83cc7",
   "metadata": {},
   "source": [
    "<b> Hãy thêm 1 def vào class hocvien giúp thay đổi giá trị biến bất kỳ trong class </b>"
   ]
  },
  {
   "cell_type": "code",
   "execution_count": 16,
   "id": "4795d043",
   "metadata": {},
   "outputs": [
    {
     "name": "stdout",
     "output_type": "stream",
     "text": [
      "Thùy Ngân\n"
     ]
    }
   ],
   "source": [
    "class hocvien:\n",
    "    ten = 'Ngân'\n",
    "    \n",
    "    def doiten(self,ten):\n",
    "        self.ten = ten\n",
    "    \n",
    "    def inten(self):\n",
    "        print(self.ten)\n",
    "        \n",
    "ngan = hocvien()\n",
    "ngan.doiten('Thùy Ngân')\n",
    "ngan.inten()"
   ]
  },
  {
   "cell_type": "markdown",
   "id": "1331e008",
   "metadata": {},
   "source": [
    "### Hàm \\_\\_init__\n",
    "\n",
    "Hàm \\_\\_init__ là hàm khởi tạo\n",
    "\n",
    "Ví dụ:\n",
    "\n",
    "`class giangvien:\n",
    "    def __init__(self,ten,mon):\n",
    "        self.ten = ten\n",
    "        self.mon = mon\n",
    "    def doiten(self,ten):\n",
    "        self.ten = ten\n",
    "    def inten(self):\n",
    "        print(self.ten)   \n",
    "dien = giangvien(\"Điền\",\"Python căn bản\")\n",
    "thang = giangvien(\"Thắng\",\"Python siêu cấp\")\n",
    "dien.inten()\n",
    "thang.inten()`\n",
    "\n",
    "<b> Hãy chạy thử đoạn lệnh ở ví dụ: </b>"
   ]
  },
  {
   "cell_type": "code",
   "execution_count": 17,
   "id": "85fd0b07",
   "metadata": {},
   "outputs": [
    {
     "name": "stdout",
     "output_type": "stream",
     "text": [
      "Điền\n",
      "Thắng\n"
     ]
    }
   ],
   "source": [
    "class giangvien:\n",
    "    def __init__(self,ten,mon):\n",
    "        self.ten = ten\n",
    "        self.mon = mon\n",
    "        \n",
    "    def doiten(self,ten):\n",
    "        self.ten = ten\n",
    "        \n",
    "    def inten(self):\n",
    "        print(self.ten)  \n",
    "        \n",
    "dien = giangvien(\"Điền\",\"Python căn bản\")\n",
    "thang = giangvien(\"Thắng\",\"Python siêu cấp\")\n",
    "dien.inten()\n",
    "thang.inten()"
   ]
  },
  {
   "cell_type": "markdown",
   "id": "cfb2d32c",
   "metadata": {},
   "source": [
    "<b> Hãy thêm 1 def \\_\\_init__ vào class hocvien để khởi tạo tên và tuổi của học viên </b>"
   ]
  },
  {
   "cell_type": "code",
   "execution_count": 26,
   "id": "6efd1676",
   "metadata": {},
   "outputs": [
    {
     "name": "stdout",
     "output_type": "stream",
     "text": [
      "Ngân\n",
      "Lớp Python 1\n",
      "Năm 2021\n"
     ]
    }
   ],
   "source": [
    "class hocvien:\n",
    "\n",
    "    def __init__(self,ten,mon,namhoc):\n",
    "        self.ten = ten\n",
    "        self.mon = mon  \n",
    "        self.namhoc = namhoc\n",
    "        \n",
    "    def inten(self):\n",
    "        print(self.ten)\n",
    "    \n",
    "    def inmon(self):\n",
    "        print(self.mon)\n",
    "        \n",
    "    def innam(self):\n",
    "        print(self.namhoc)\n",
    "        \n",
    "ngan = hocvien('Ngân','Lớp Python 1','Năm 2021')\n",
    "ngan.inten()\n",
    "ngan.inmon()\n",
    "ngan.innam()"
   ]
  },
  {
   "cell_type": "markdown",
   "id": "a7a19f4b",
   "metadata": {},
   "source": [
    "### Bài tập"
   ]
  },
  {
   "cell_type": "markdown",
   "id": "0d4f8f4b",
   "metadata": {},
   "source": [
    "Hãy xây dựng 1 class hình tròn có các thuộc tính sau:\n",
    "\n",
    "- biến x và y chứa tọa độ tâm đường tròn\n",
    "- biến r chứa bán kính đường chọn\n",
    "- hàm draw: để vẽ đường tròn"
   ]
  },
  {
   "cell_type": "code",
   "execution_count": 1,
   "id": "3a5ec4b9",
   "metadata": {},
   "outputs": [],
   "source": [
    "import turtle\n",
    "t = turtle.Turtle()\n",
    "\n",
    "class hinhtron:\n",
    "    def __init__(self,x,y,r):\n",
    "        self.x = x\n",
    "        self.y = y\n",
    "        self.r = r\n",
    "        \n",
    "    def draw(self):\n",
    "        t.penup()\n",
    "        t.goto(self.x,self.y-self.r)\n",
    "        t.pendown()\n",
    "        t.circle(self.r)\n",
    "\n",
    "vehinh = hinhtron (0,0,40)\n",
    "vehinh.draw()"
   ]
  },
  {
   "cell_type": "markdown",
   "id": "9ae73796",
   "metadata": {},
   "source": [
    "Tạo một lớp phân số có các thuộc tính:\n",
    "\n",
    "- biến tử số và mẫu số\n",
    "- hàm cong: để cộng với một đối tượng khác có lớp phân số rồi trả về dối tượng có phân số mới\n",
    "- hàm tru: để trừ với một đối tượng khác có lớp phân số rồi trả về dối tượng có phân số mới\n",
    "- hàm nhan: để nhân với một đối tượng khác có lớp phân số rồi trả về dối tượng có phân số mới\n",
    "- hàm chia: để chia với một đối tượng khác có lớp phân số rồi trả về dối tượng có phân số mới\n",
    "- hàm toigian: để tối giản phân số rồi trả về dối tượng có phân số mới"
   ]
  },
  {
   "cell_type": "code",
   "execution_count": 11,
   "id": "a5dd26a4",
   "metadata": {},
   "outputs": [
    {
     "name": "stdout",
     "output_type": "stream",
     "text": [
      "22/15\n",
      "2/15\n",
      "8/15\n",
      "12/10\n"
     ]
    }
   ],
   "source": [
    "def UCLN(a,b):\n",
    "    while a != b:\n",
    "        c = abs(a - b)\n",
    "        if a > b:\n",
    "            a = c\n",
    "        else:\n",
    "            b = c\n",
    "    return a\n",
    "\n",
    "\n",
    "class phanso():\n",
    "    \n",
    "    def __init__(self,tuso,mauso):\n",
    "        self.tuso = tuso\n",
    "        self.mauso = mauso\n",
    "        \n",
    "    def inra(self):\n",
    "        print(self.tuso,'/',self.mauso,sep='')\n",
    "        \n",
    "    def cong(self,a):\n",
    "        tuso = (self.tuso)*(a.mauso)+(self.mauso)*(a.tuso)\n",
    "        mauso = (self.mauso)*(a.mauso)\n",
    "        return phanso(tuso,mauso)\n",
    "    \n",
    "    def tru(self,a):\n",
    "        tuso = (self.tuso)*(a.mauso)-(self.mauso)*(a.tuso)\n",
    "        mauso = (self.mauso)*(a.mauso)\n",
    "        return phanso(tuso,mauso)\n",
    "    \n",
    "    def nhan(self,a):\n",
    "        tuso = self.tuso * a.tuso\n",
    "        mauso = self.mauso * a.mauso\n",
    "        return phanso(tuso,mauso)\n",
    "\n",
    "    def chia(self,a):\n",
    "        tuso = self.tuso * a.mauso\n",
    "        mauso = self.mauso * a.tuso\n",
    "        return phanso(tuso,mauso)\n",
    "    \n",
    "    def toigian(self):\n",
    "        uoc = UCLN(self.tuso,self.mauso)\n",
    "        self.tuso = self.tuso//uoc\n",
    "        self.mauso = self.mauso//uoc        \n",
    "    \n",
    "phanso1 = phanso(4,5)\n",
    "phanso2 = phanso(2,3)\n",
    "\n",
    "kqcong = phanso1.cong(phanso2)\n",
    "kqtru = phanso1.tru(phanso2)\n",
    "kqnhan = phanso1.nhan(phanso2)\n",
    "kqchia = phanso1.chia(phanso2)\n",
    "\n",
    "kqcong.inra()\n",
    "kqtru.inra()\n",
    "kqnhan.inra()\n",
    "kqchia.inra()"
   ]
  },
  {
   "cell_type": "markdown",
   "id": "23d50181",
   "metadata": {},
   "source": [
    "Viết class NhanVien gồm các thuộc tính:\n",
    "\n",
    "<b> Các biến </b>\n",
    "\n",
    "- Tên\n",
    "- Tuổi\n",
    "- Địa chỉ\n",
    "- Tiền lương\n",
    "- Tổng số giờ làm\n",
    "\n",
    "<b> Các hàm </b>\n",
    "\n",
    "- nhap : Nhập các thông tin cho nhân viên từ bàn phím\n",
    "- in : In ra tất cả các thông tin của nhân viên\n",
    "- thuong: Tính toán và trả về số tiền thưởng của nhân viên theo công thức sau:\n",
    "\n",
    "    Nếu tổng số giờ làm của nhân viên >=200 thì thưởng = lương * 20%\n",
    "    \n",
    "    Nếu tổng số giờ làm của nhân viên <200 và >=100 thì thưởng = lương * 10%\n",
    "    \n",
    "    Nếu tổng số giờ làm của nhân viên <100 thì thưởng = 0"
   ]
  },
  {
   "cell_type": "code",
   "execution_count": 4,
   "id": "fc81d2d9",
   "metadata": {},
   "outputs": [
    {
     "name": "stdout",
     "output_type": "stream",
     "text": [
      "=== Tính thưởng nhân viên ===\n",
      "Nhập tên : Ngân\n",
      "Nhập tuổi : 20\n",
      "Nhập địa chỉ : Quận 5\n",
      "Nhập lương :30000000\n",
      "Nhập giờ làm : 350\n",
      "-------------------\n",
      "Tiền thưởng = 6,000,000.0\n"
     ]
    }
   ],
   "source": [
    "class nhanvien():\n",
    "    \n",
    "    def __init__(self,Ten,Tuoi,Diachi,Tienluong,Tonggio):\n",
    "        self.Ten = Ten\n",
    "        self.Tuoi = Tuoi\n",
    "        self.Diachi = Diachi\n",
    "        self.Tienluong = Tienluong\n",
    "        self.Tonggio = Tonggio\n",
    "       \n",
    "    def thuong(self):\n",
    "        if Tonggio >= 200:\n",
    "            thuong = Tienluong*0.2\n",
    "            \n",
    "        elif Tonggio>=100 and Tonggio<200:\n",
    "            thuong = Tienluong*0.1\n",
    "    \n",
    "        else: thuong = 0\n",
    "            \n",
    "        return thuong\n",
    "        \n",
    "    def inra(self):\n",
    "        print('Tiền thưởng = {0:,}'.format(self.thuong()))\n",
    "\n",
    "\n",
    "print('=== Tính thưởng nhân viên ===')\n",
    "Ten = input('Nhập tên : ')\n",
    "Tuoi = int(input('Nhập tuổi : '))\n",
    "Diachi = input('Nhập địa chỉ : ')\n",
    "Tienluong = int(input('Nhập lương :'))\n",
    "Tonggio = int(input('Nhập giờ làm : '))\n",
    "\n",
    "print('-------------------')\n",
    "tienthuong = nhanvien(Ten,Tuoi,Diachi,Tienluong,Tonggio)\n",
    "tienthuong.inra()"
   ]
  }
 ],
 "metadata": {
  "kernelspec": {
   "display_name": "Python 3 (ipykernel)",
   "language": "python",
   "name": "python3"
  },
  "language_info": {
   "codemirror_mode": {
    "name": "ipython",
    "version": 3
   },
   "file_extension": ".py",
   "mimetype": "text/x-python",
   "name": "python",
   "nbconvert_exporter": "python",
   "pygments_lexer": "ipython3",
   "version": "3.9.7"
  }
 },
 "nbformat": 4,
 "nbformat_minor": 5
}
