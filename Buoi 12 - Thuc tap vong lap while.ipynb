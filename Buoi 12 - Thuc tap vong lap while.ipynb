{
 "cells": [
  {
   "cell_type": "markdown",
   "id": "1f7be993",
   "metadata": {},
   "source": [
    "# Thực tập vòng lặp While\n",
    "\n",
    "### Bài 1\n",
    "\n",
    "Nhập vào số a, sử dụng lệnh while (không sử dụng break và for) để xác định xem số đó có phải là số nguyên tố hay không"
   ]
  },
  {
   "cell_type": "code",
   "execution_count": 6,
   "id": "8cb73965",
   "metadata": {},
   "outputs": [
    {
     "name": "stdout",
     "output_type": "stream",
     "text": [
      "Nhập vào số a : 16\n",
      "không là số nguyên tố\n"
     ]
    }
   ],
   "source": [
    "a = int(input(\"Nhập vào số a : \"))\n",
    "\n",
    "if a < 2:\n",
    "    print(\"không là số nguyên tố\")\n",
    "else:\n",
    "    i = 2\n",
    "    while a%i != 0:\n",
    "        i+=1\n",
    "    if i == a:\n",
    "        print(\"là số nguyên tố\")\n",
    "    else:\n",
    "        print(\"không là số nguyên tố\")"
   ]
  },
  {
   "cell_type": "markdown",
   "id": "9f2357ca",
   "metadata": {},
   "source": [
    "### Bài 2\n",
    "\n",
    "Hãy sử dụng lệnh while lập trình cho bài đoán số ở buổi thứ 10"
   ]
  },
  {
   "cell_type": "code",
   "execution_count": 3,
   "id": "db79cb9d",
   "metadata": {},
   "outputs": [
    {
     "name": "stdout",
     "output_type": "stream",
     "text": [
      "Tui đoán số bạn chọn là 50\n",
      "Nếu sai, hãy nhập lớn hoặc bé tương ứng nếu số tui chọn lớn hoặc bé hơn số bạn nghĩ. Nếu đúng, hãy nhập đúngbé\n",
      "Tui đoán số bạn chọn là 50\n",
      "Nếu sai, hãy nhập lớn hoặc bé tương ứng nếu số tui chọn lớn hoặc bé hơn số bạn nghĩ. Nếu đúng, hãy nhập đúngsai\n",
      "Tui đoán số bạn chọn là 50\n",
      "Nếu sai, hãy nhập lớn hoặc bé tương ứng nếu số tui chọn lớn hoặc bé hơn số bạn nghĩ. Nếu đúng, hãy nhập đúngsai\n",
      "Tui đoán số bạn chọn là 50\n",
      "Nếu sai, hãy nhập lớn hoặc bé tương ứng nếu số tui chọn lớn hoặc bé hơn số bạn nghĩ. Nếu đúng, hãy nhập đúngsai\n",
      "Tui đoán số bạn chọn là 50\n",
      "Nếu sai, hãy nhập lớn hoặc bé tương ứng nếu số tui chọn lớn hoặc bé hơn số bạn nghĩ. Nếu đúng, hãy nhập đúngsai\n",
      "Tui đoán số bạn chọn là 50\n",
      "Nếu sai, hãy nhập lớn hoặc bé tương ứng nếu số tui chọn lớn hoặc bé hơn số bạn nghĩ. Nếu đúng, hãy nhập đúngsai\n",
      "Tui đoán số bạn chọn là 50\n",
      "Nếu sai, hãy nhập lớn hoặc bé tương ứng nếu số tui chọn lớn hoặc bé hơn số bạn nghĩ. Nếu đúng, hãy nhập đúngsai\n",
      "Tui đoán số bạn chọn là 50\n",
      "Nếu sai, hãy nhập lớn hoặc bé tương ứng nếu số tui chọn lớn hoặc bé hơn số bạn nghĩ. Nếu đúng, hãy nhập đúngsai\n",
      "Tui đoán số bạn chọn là 50\n",
      "Nếu sai, hãy nhập lớn hoặc bé tương ứng nếu số tui chọn lớn hoặc bé hơn số bạn nghĩ. Nếu đúng, hãy nhập đúngđúng\n",
      "Vậy là tui đoán đúng số bạn nghĩ rồi nhé, số bạn nghĩ là: 50\n"
     ]
    }
   ],
   "source": [
    "import math\n",
    "nguongtren = 100\n",
    "nguongduoi = 0\n",
    "sodoan = int((nguongtren - nguongduoi + 1)/2)\n",
    "print(\"Tui đoán số bạn chọn là\",sodoan)\n",
    "phanhoi = input(\"Nếu sai, hãy nhập lớn hoặc bé tương ứng nếu số tui chọn lớn hoặc bé hơn số bạn nghĩ. Nếu đúng, hãy nhập đúng\")\n",
    "\n",
    "while phanhoi != \"đúng\":\n",
    "    print(\"Tui đoán số bạn chọn là\",sodoan)\n",
    "    phanhoi = input(\"Nếu sai, hãy nhập lớn hoặc bé tương ứng nếu số tui chọn lớn hoặc bé hơn số bạn nghĩ. Nếu đúng, hãy nhập đúng\")\n",
    "    if (phanhoi == \"lớn\"):\n",
    "        nguongtren = sodoan - 1\n",
    "        sodoan = nguongtren - math.ceil((nguongtren - nguongduoi + 1)/2) + 1\n",
    "    elif (phanhoi == \"bé\"):\n",
    "        nguongduoi = sodoan + 1\n",
    "        sodoan = nguongduoi + math.ceil((nguongtren - nguongduoi + 1)/2) - 1\n",
    "   \n",
    "    \n",
    "print(\"Vậy là tui đoán đúng số bạn nghĩ rồi nhé, số bạn nghĩ là:\",sodoan)"
   ]
  },
  {
   "cell_type": "markdown",
   "id": "58f5b789",
   "metadata": {},
   "source": [
    "### Bài 3\n",
    "\n",
    "Nhập vào số a, hãy đếm a có bao nhiêu chữ số chẵn, bao nhiêu cữ số lẻ\n",
    "\n",
    "#### Cách 1 (dùng chuỗi):"
   ]
  },
  {
   "cell_type": "code",
   "execution_count": 3,
   "id": "a00da241",
   "metadata": {
    "scrolled": true
   },
   "outputs": [
    {
     "name": "stdout",
     "output_type": "stream",
     "text": [
      "Nhập vào số a : 24579\n",
      "Số này có  2  chữ số chẵn\n",
      "Số này có  3  chữ số lẻ\n"
     ]
    }
   ],
   "source": [
    "a = int(input(\"Nhập vào số a : \"))\n",
    "chuoia = str(a)\n",
    "\n",
    "i = 0\n",
    "demchan = 0\n",
    "demle = 0\n",
    "\n",
    "while (i<len(chuoia)):\n",
    "    chuyensangso = int(chuoia[i])\n",
    "    if chuyensangso%2 == 0:\n",
    "        demchan+=1\n",
    "    else:\n",
    "        demle+=1\n",
    "    i+=1\n",
    "    \n",
    "print(\"Số này có \",demchan,\" chữ số chẵn\")\n",
    "print(\"Số này có \",demle,\" chữ số lẻ\")"
   ]
  },
  {
   "cell_type": "markdown",
   "id": "9a3d9703",
   "metadata": {},
   "source": [
    "#### Cách 2 (không dùng chuỗi):"
   ]
  },
  {
   "cell_type": "code",
   "execution_count": 4,
   "id": "d4e474c8",
   "metadata": {},
   "outputs": [
    {
     "name": "stdout",
     "output_type": "stream",
     "text": [
      "Nhập vào a:2413579\n",
      "Số này có 2 chữ số chẳn\n",
      "Số này có 5 chữ số lẻ\n"
     ]
    }
   ],
   "source": [
    "a = int(input(\"Nhập vào a:\"))\n",
    "demchan = 0\n",
    "demle = 0\n",
    "\n",
    "while (a != 0):\n",
    "    b = a % 10\n",
    "    if (b % 2 == 0):\n",
    "        demchan += 1\n",
    "    else:\n",
    "        demle += 1\n",
    "    a = a // 10\n",
    "    \n",
    "print(\"Số này có\",demchan,\"chữ số chẳn\")\n",
    "print(\"Số này có\",demle,\"chữ số lẻ\")"
   ]
  },
  {
   "cell_type": "markdown",
   "id": "69539ece",
   "metadata": {},
   "source": [
    "### Bài 4\n",
    "\n",
    "Nhập vào số a, hãy tính tổng các chữ số nguyên tố của a"
   ]
  },
  {
   "cell_type": "code",
   "execution_count": 1,
   "id": "0a3321f1",
   "metadata": {},
   "outputs": [
    {
     "name": "stdout",
     "output_type": "stream",
     "text": [
      "Nhập vào số a:2344667\n",
      "12\n"
     ]
    }
   ],
   "source": [
    "a = int(input(\"Nhập vào số a:\"))\n",
    "tong = 0\n",
    "\n",
    "while a!=0:\n",
    "    b = a%10\n",
    "    i = 2\n",
    "    if b!=1:\n",
    "        while b%i !=0:\n",
    "            i += 1  \n",
    "        if b == i:\n",
    "            tong += b\n",
    "    a = a//10\n",
    "    \n",
    "print(tong)"
   ]
  },
  {
   "cell_type": "markdown",
   "id": "0a5075a4",
   "metadata": {},
   "source": [
    "### Bài 5\n",
    "\n",
    "Số armstrong là số có tổng lập phương các chữ số bằng chính nó\n",
    "\n",
    "Ví dụ\n",
    "\n",
    "Số 371 là một số armstrong vì:\n",
    "\n",
    "371 = 3^3 + 7^3 + 1^3\n",
    "\n",
    "Nhập vào số a, kiểm tra xem a có phải là số armstrong không"
   ]
  },
  {
   "cell_type": "code",
   "execution_count": null,
   "id": "b9ed54a5",
   "metadata": {},
   "outputs": [],
   "source": [
    "a = int(input(\"Nhap so a: \"))\n",
    "\n",
    "s = 0\n",
    "i = 0\n",
    "a = str(a)\n",
    "while(i < len(a)):\n",
    "    s += int(a[i])**3\n",
    "    i += 1\n",
    "\n",
    "if s == int(a):\n",
    "    print(a, \"là số armstrong\")\n",
    "else:\n",
    "    print(a, \"không là số armstrong\")"
   ]
  },
  {
   "cell_type": "markdown",
   "id": "f8a584d3",
   "metadata": {},
   "source": [
    "### Bài 6\n",
    "\n",
    "Dãy số fibonacci là dãy số được định nghĩa như sau: 1, 1, 2, 3, 5, 8, 13,... với số kế tiếp sẽ bằng tổng hai số trước đó\n",
    "\n",
    "Nhập vào A, hãy tìm số trong dãy số fibonacci lớn nhất nhưng không vượt quá A"
   ]
  },
  {
   "cell_type": "code",
   "execution_count": 2,
   "id": "3ad4d85b",
   "metadata": {},
   "outputs": [
    {
     "name": "stdout",
     "output_type": "stream",
     "text": [
      "Nhap vao mot so nguyen duong: 45678\n",
      "28657\n"
     ]
    }
   ],
   "source": [
    "soa = int(input(\"Nhap vao mot so nguyen duong: \"))\n",
    "a = 1\n",
    "b = 1\n",
    "c = 2\n",
    "while (c < soa):\n",
    "    a = b\n",
    "    b = c\n",
    "    c = a + b\n",
    "print(b)"
   ]
  },
  {
   "cell_type": "markdown",
   "id": "9fa794f2",
   "metadata": {},
   "source": [
    "### Bài 7\n",
    "\n",
    "Nhập vào A, tìm n nhỏ nhất sao cho\n",
    "\n",
    "1 + 1/2 + 1/3 + 1/4 + ... + 1/n > A"
   ]
  },
  {
   "cell_type": "code",
   "execution_count": 1,
   "id": "246ec002",
   "metadata": {},
   "outputs": [
    {
     "name": "stdout",
     "output_type": "stream",
     "text": [
      "Nhap so a: 10\n",
      "12367\n"
     ]
    }
   ],
   "source": [
    "a = float(input(\"Nhap so a: \"))\n",
    "\n",
    "i = 1\n",
    "s = 1\n",
    "while(a >= s):\n",
    "    i += 1\n",
    "    s += 1/(i)\n",
    "print(i)"
   ]
  },
  {
   "cell_type": "markdown",
   "id": "c5fd4d8a",
   "metadata": {},
   "source": [
    "### Bài 8\n",
    "\n",
    "Không dùng for và break, hãy kiểm tra xem số a nhập vào có phải là số nguyên tố hay không"
   ]
  },
  {
   "cell_type": "code",
   "execution_count": null,
   "id": "9edf35ac",
   "metadata": {},
   "outputs": [],
   "source": []
  }
 ],
 "metadata": {
  "kernelspec": {
   "display_name": "Python 3 (ipykernel)",
   "language": "python",
   "name": "python3"
  },
  "language_info": {
   "codemirror_mode": {
    "name": "ipython",
    "version": 3
   },
   "file_extension": ".py",
   "mimetype": "text/x-python",
   "name": "python",
   "nbconvert_exporter": "python",
   "pygments_lexer": "ipython3",
   "version": "3.9.7"
  }
 },
 "nbformat": 4,
 "nbformat_minor": 5
}
