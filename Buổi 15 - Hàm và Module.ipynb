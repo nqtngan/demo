{
 "cells": [
  {
   "cell_type": "markdown",
   "id": "73456e5e",
   "metadata": {},
   "source": [
    "# Hàm\n",
    "\n",
    "### Hàm\n",
    "\n",
    "Cú pháp:\n",
    "\n",
    "`def <tên hàm>(<tham số)>:\n",
    "    //Nội dung hàm`\n",
    "\n",
    "Gọi hàm:\n",
    "`<tên hàm>(<giá trị đầu vào>)`\n",
    "\n",
    "Ví dụ:\n",
    "\n",
    "Hãy viết 1 hàm số để tính tổng 2 số đầu vào và in nó ra màn hình"
   ]
  },
  {
   "cell_type": "code",
   "execution_count": 5,
   "id": "af5b9f6d",
   "metadata": {},
   "outputs": [
    {
     "name": "stdout",
     "output_type": "stream",
     "text": [
      "12\n",
      "11\n"
     ]
    }
   ],
   "source": [
    "def tong(a,b):\n",
    "    tong = a + b\n",
    "    print(tong)\n",
    "    \n",
    "tong(5,7)\n",
    "tong(7,4)"
   ]
  },
  {
   "cell_type": "markdown",
   "id": "a7c39f47",
   "metadata": {},
   "source": [
    "### Giá trị trả về của hàm\n",
    "\n",
    "# return\n",
    "\n",
    "Cú pháp:\n",
    "\n",
    "`retrun <giá trị trả về`\n",
    "\n",
    "##### Lưu ý: Sau khi thực hiện lệnh return, chương trình sẽ thoát khỏi hàm ngay lập tức (những lệnh sau đó không được thực hiện)\n",
    "\n",
    "Ví dụ:\n",
    "\n",
    "Hãy viết 1 hàm trả về giá trị trung bình của 2 số bất kỳ"
   ]
  },
  {
   "cell_type": "code",
   "execution_count": 7,
   "id": "0b527b95",
   "metadata": {},
   "outputs": [
    {
     "name": "stdout",
     "output_type": "stream",
     "text": [
      "3.0\n"
     ]
    }
   ],
   "source": [
    "def giatriTB(a,b):\n",
    "    tb = (a+b)/2\n",
    "    return tb\n",
    "\n",
    "c = giatriTB(2,4)\n",
    "print(c)"
   ]
  },
  {
   "cell_type": "markdown",
   "id": "1d7f8db0",
   "metadata": {},
   "source": [
    "### Bài tập"
   ]
  },
  {
   "cell_type": "markdown",
   "id": "75fb488b",
   "metadata": {},
   "source": [
    "Viết hàm kiểm tra số nguyên tố"
   ]
  },
  {
   "cell_type": "code",
   "execution_count": 15,
   "id": "63701bd7",
   "metadata": {},
   "outputs": [
    {
     "name": "stdout",
     "output_type": "stream",
     "text": [
      "True\n"
     ]
    },
    {
     "data": {
      "text/plain": [
       "'\\ndef isPrime(n):\\n    for i in range(2, int(n**0.5) + 1):\\n        if n % i == 0:\\n            return False\\n    return True\\n\\nprint(isPrime(17))'"
      ]
     },
     "execution_count": 15,
     "metadata": {},
     "output_type": "execute_result"
    }
   ],
   "source": [
    "def soNT(a):\n",
    "    if a<2:\n",
    "        return False\n",
    "    for i in range(2,a):\n",
    "        if a%i == 0:\n",
    "            return False\n",
    "    return True\n",
    "\n",
    "print(soNT(7))\n",
    "\n",
    "\n",
    "'''\n",
    "def isPrime(n):\n",
    "    for i in range(2, int(n**0.5) + 1):\n",
    "        if n % i == 0:\n",
    "            return False\n",
    "    return True\n",
    "\n",
    "print(isPrime(17))'''"
   ]
  },
  {
   "cell_type": "markdown",
   "id": "221103cf",
   "metadata": {},
   "source": [
    "Nhập vào 3 điểm toán, lý, hóa\n",
    "\n",
    "Hãy viết hàm in điểm trung bung bình rồi tính điểm trung bình của toán lý, tóan hóa, lý hóa và toán lý hóa"
   ]
  },
  {
   "cell_type": "code",
   "execution_count": 19,
   "id": "1ba1d8ae",
   "metadata": {},
   "outputs": [
    {
     "name": "stdout",
     "output_type": "stream",
     "text": [
      "3.5\n",
      "4.0\n",
      "4.5\n",
      "4.0\n"
     ]
    }
   ],
   "source": [
    "def diemTB(toan,ly,hoa):\n",
    "    toanly = (toan+ly)/2\n",
    "    toanhoa = (toan+hoa)/2\n",
    "    lyhoa = (ly+hoa)/2\n",
    "    TB = (toan+ly+hoa)/3\n",
    "    \n",
    "    print(toanly)\n",
    "    print(toanhoa)\n",
    "    print(lyhoa)\n",
    "    print(TB)\n",
    "    \n",
    "diemTB(3,4,5)"
   ]
  },
  {
   "cell_type": "markdown",
   "id": "75b61830",
   "metadata": {},
   "source": [
    "Viết hàm đếm số lượng từ của 1 chuỗi đưa vào"
   ]
  },
  {
   "cell_type": "code",
   "execution_count": 6,
   "id": "83d15082",
   "metadata": {},
   "outputs": [
    {
     "name": "stdout",
     "output_type": "stream",
     "text": [
      "Nhap vao chuoi : xin chao\n",
      "3\n",
      "8\n",
      "None\n"
     ]
    }
   ],
   "source": [
    "chuoi = input('Nhap vao chuoi : ')\n",
    "\n",
    "def demtu(chuoi):\n",
    "    chuoi = chuoi + ' '\n",
    "    dem = chuoi.count(' ')\n",
    "    \n",
    "    n=0\n",
    "    for i in range(1,len(chuoi)):\n",
    "        if chuoi[i] == ' ':\n",
    "            print(len(chuoi[n:i]))\n",
    "print(demtu(chuoi))"
   ]
  },
  {
   "cell_type": "markdown",
   "id": "6b403f5f",
   "metadata": {},
   "source": [
    "Viết một hàm vẽ hình tròn, một hàm vẽ hình vuông và một hàm vẽ hình tam giác đều (giá trị đầu vào là a)\n",
    "\n",
    "Tất cả hàm này, đều bắt đầu từ 1 vị trí, sau khi vẽ ra, con trỏ sẽ tiến tới vị trí tiếp theo, cách vì đầu một khoảng a + 10 theo chiều x từ trái sang"
   ]
  },
  {
   "cell_type": "code",
   "execution_count": 1,
   "id": "ce3adc0a",
   "metadata": {},
   "outputs": [
    {
     "name": "stdout",
     "output_type": "stream",
     "text": [
      "Nhập a:60\n",
      "Nhập vào chuỗi:tròn,vuông,vuông,tam giác,tròn\n"
     ]
    }
   ],
   "source": [
    "import turtle\n",
    "import random\n",
    "\n",
    "t = turtle.Turtle()\n",
    "t.penup()\n",
    "t.back(200)\n",
    "\n",
    "a = int(input(\"Nhập a:\"))\n",
    "\n",
    "def randomcolor():\n",
    "    a = random.randint(1,3)\n",
    "    if (a == 1):\n",
    "        return \"red\"\n",
    "    if (a == 2):\n",
    "        return \"yellow\"\n",
    "    if (a == 3):\n",
    "        return \"green\"\n",
    "\n",
    "def hinhvuong():\n",
    "    global a\n",
    "    for i in range(4):\n",
    "        t.fd(a)\n",
    "        t.left(90)\n",
    "    t.penup()\n",
    "    t.fd(a + 10)\n",
    "    t.pendown()\n",
    "    \n",
    "def hinhtron():\n",
    "    global a\n",
    "    t.penup()\n",
    "    t.fd(a/2)\n",
    "    t.pendown()\n",
    "    t.circle(a/2)\n",
    "    t.penup()\n",
    "    t.fd(a/2 + 10)\n",
    "    t.pendown()\n",
    "    \n",
    "def tamgiac():\n",
    "    global a\n",
    "    for i in range(3):\n",
    "        t.fd(a)\n",
    "        t.left(120)\n",
    "    t.penup()\n",
    "    t.fd(a + 10)\n",
    "    t.pendown()\n",
    "\n",
    "    \n",
    "chuoi = input(\"Nhập vào chuỗi:\")\n",
    "chuoi += \",\"\n",
    "chuoit = \"\"\n",
    "for i in chuoi:\n",
    "    if (i != \",\"):\n",
    "        chuoit += i\n",
    "    else:\n",
    "        chuoit = chuoit.strip()\n",
    "        t.begin_fill()\n",
    "        t.color(\"black\",randomcolor())\n",
    "        if (chuoit == \"tròn\"):\n",
    "            hinhtron()\n",
    "        elif (chuoit == \"vuông\"):\n",
    "            hinhvuong()\n",
    "        elif (chuoit == \"tam giác\"):\n",
    "            tamgiac()\n",
    "        t.end_fill()\n",
    "        chuoit = \"\""
   ]
  },
  {
   "cell_type": "code",
   "execution_count": 1,
   "id": "a1b9a359",
   "metadata": {},
   "outputs": [
    {
     "name": "stdout",
     "output_type": "stream",
     "text": [
      "4\n",
      "5\n"
     ]
    }
   ],
   "source": [
    "van = int(input(\"\"))\n",
    "toan = int(input(\"\"))\n",
    "\n",
    "dtb = \"\"\n",
    "\n",
    "def tinhdtb(van,toan):\n",
    "    global dtb\n",
    "    dtb = (van + toan)/2\n",
    "    \n",
    "def xethsgioi():\n",
    "    global dtb\n",
    "    if (dtb > 8):\n",
    "        print(\"HS Giỏi\")\n",
    "    else:\n",
    "        print(\"HS Khá\")"
   ]
  }
 ],
 "metadata": {
  "kernelspec": {
   "display_name": "Python 3 (ipykernel)",
   "language": "python",
   "name": "python3"
  },
  "language_info": {
   "codemirror_mode": {
    "name": "ipython",
    "version": 3
   },
   "file_extension": ".py",
   "mimetype": "text/x-python",
   "name": "python",
   "nbconvert_exporter": "python",
   "pygments_lexer": "ipython3",
   "version": "3.9.7"
  }
 },
 "nbformat": 4,
 "nbformat_minor": 5
}
