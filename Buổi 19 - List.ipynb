{
 "cells": [
  {
   "cell_type": "markdown",
   "id": "b8cdcffd",
   "metadata": {},
   "source": [
    "# List\n",
    "\n",
    "### Đặt vấn đề\n",
    "\n",
    "Nếu như ta có một lượng dữ liệu không biết trước được số lượng cần lưu vào biến, ta không thể lưu bằng cách thông thường\n",
    "\n",
    "Lấy ví dụ:\n",
    "\n",
    "Nhập vào số n, sau đó nhập tiếp n số và lưu trữ n số đó vào biến\n",
    "\n",
    "Vậy ta hoàn toàn không biết được người dùng sẽ nhập bao nhiêu số để lưu trữ\n",
    "\n",
    "Lúc này ta cần đến List\n",
    "\n",
    "List giúp chúng ta lưu nhiều giá trị cùng 1 lúc, nhưng chỉ cần đặt tên cho nó lần\n",
    "\n",
    "##### Tài liệu tham khảo: https://www.w3schools.com/python/python_lists.asp"
   ]
  },
  {
   "cell_type": "markdown",
   "id": "eed71f12",
   "metadata": {},
   "source": [
    "### Cách thức khai báo List\n",
    "\n",
    "Cú pháp:\n",
    "\n",
    "`<tên list> = []`\n",
    "\n",
    "##### List được khai báo bằng 2 dấu ngoặc vuông\n",
    "\n",
    "<b> Ví dụ 1: </b>\n",
    "\n",
    "`a = []`\n",
    "\n",
    "a là một list, không có bất kỳ phần tử nào trong đó\n",
    "\n",
    "<b> Ví dụ 2: </b>\n",
    "\n",
    "`b = [1,2,3]`\n",
    "\n",
    "##### Các phần tử trong list được khai báo, mỗi phần tử cách nhau một dấu phẩy\n",
    "\n",
    "b là một list có 3 phần tử\n",
    "\n",
    "<b> Ví dụ 3: </b>\n",
    "\n",
    "`c = [\"abc\",5,1.5]`\n",
    "\n",
    "##### Các phần tử trong list có thể có những kiểu dữ liệu khác nhau\n",
    "\n",
    "c là một list có 3 phần tử, phần tử thứ nhất có kiểu dữ liệu là chuỗi, phần tử thứ hai có kiểu dữ liệu là số nguyên và phần tử cuối cùng có kiểu dữ liệu là số thực\n",
    "\n",
    "<b> Hãy khai báo một list và in list đó lên màn hình </b>"
   ]
  },
  {
   "cell_type": "code",
   "execution_count": 1,
   "id": "44728c9b",
   "metadata": {},
   "outputs": [
    {
     "name": "stdout",
     "output_type": "stream",
     "text": [
      "[1, 3, 5, 7, 'abcd']\n"
     ]
    }
   ],
   "source": [
    "a=[1,3,5,7,'abcd']\n",
    "print(a)"
   ]
  },
  {
   "cell_type": "markdown",
   "id": "2c8c08cd",
   "metadata": {},
   "source": [
    "### Truy xuất phần tử trong List\n",
    "\n",
    "Giống như chuỗi, các phần tử trong list được truy xuất theo cú pháp:\n",
    "\n",
    "`<tên list>[<vị trí của phần tử>]`\n",
    "\n",
    "<b> Ví dụ 1: </b>\n",
    "\n",
    "`a = [1,4,6]\n",
    "print(a[1])`\n",
    "\n",
    "Màn hình sẽ in ra 4\n",
    "\n",
    "<b> Hãy khai báo một list có một chuỗi và một số rồi in chuỗi trong list đó ra màn hình </b>"
   ]
  },
  {
   "cell_type": "code",
   "execution_count": 3,
   "id": "bc799d8b",
   "metadata": {},
   "outputs": [
    {
     "name": "stdout",
     "output_type": "stream",
     "text": [
      "abc\n"
     ]
    }
   ],
   "source": [
    "a=['abc',2]\n",
    "print(a[0])"
   ]
  },
  {
   "cell_type": "markdown",
   "id": "50ef64bf",
   "metadata": {},
   "source": [
    "### Thêm phần tử vào List\n",
    "\n",
    "Cú pháp:\n",
    "\n",
    "`<tên list>.append()`\n",
    "\n",
    "<b>Ví dụ:</b>\n",
    "\n",
    "`a = []\n",
    "a.append(5)`\n",
    "\n",
    "a sẽ có 1 phần tử là 5\n",
    "\n",
    "<b> Hãy khai báo một list rỗng, rồi thêm 2 phần tử bất kỳ vào list đó, sau đó in list đó ra</b>"
   ]
  },
  {
   "cell_type": "code",
   "execution_count": 7,
   "id": "b91fd9e2",
   "metadata": {},
   "outputs": [
    {
     "name": "stdout",
     "output_type": "stream",
     "text": [
      "[5, 6]\n"
     ]
    }
   ],
   "source": [
    "a = []\n",
    "a.append(5)\n",
    "a.append(6)\n",
    "print(a)"
   ]
  },
  {
   "cell_type": "markdown",
   "id": "ff6a7973",
   "metadata": {},
   "source": [
    "### Thay đổi giá trị của List\n",
    "\n",
    "Cú pháp:\n",
    "\n",
    "`<tên list>[<vị trí của phần tử>] = <giá trị mới>`\n",
    "\n",
    "<b> Hãy khai báo một list bất kỳ, rồi thay đổi 1 phần tử trong nó, sau đó in list đó ra</b>"
   ]
  },
  {
   "cell_type": "code",
   "execution_count": 8,
   "id": "7297dcdc",
   "metadata": {},
   "outputs": [
    {
     "name": "stdout",
     "output_type": "stream",
     "text": [
      "[1, 2, 10, 4, 5]\n"
     ]
    }
   ],
   "source": [
    "a =[1,2,3,4,5]\n",
    "a[2]=10\n",
    "print(a)"
   ]
  },
  {
   "cell_type": "markdown",
   "id": "980c19f6",
   "metadata": {},
   "source": [
    "### Xóa 1 phần tử trong list\n",
    "\n",
    "#### Lệnh remove()\n",
    "\n",
    "Cú pháp:\n",
    "\n",
    "`<tên list>.remote(<giá trị cần xóa>)`\n",
    "\n",
    "<b>Ví dụ:</b>\n",
    "\n",
    "`a = [\"hi\",3,\"hello\",4]\n",
    "a.remove(\"hi\")`\n",
    "\n",
    "Sau khi thực hiện lệnh trên, a chỉ còn [3,\"hello\",4]\n",
    "\n",
    "<b> Hãy khai báo một list bất kỳ, rồi xóa 1 phần tử trong nó bằng lệnh remove(), sau đó in list đó ra</b>"
   ]
  },
  {
   "cell_type": "code",
   "execution_count": 10,
   "id": "50de30e7",
   "metadata": {},
   "outputs": [
    {
     "name": "stdout",
     "output_type": "stream",
     "text": [
      "[1, 2, 4, 5, 6]\n"
     ]
    }
   ],
   "source": [
    "a =[1,2,3,4,5,6]\n",
    "a.remove(3)\n",
    "print(a)"
   ]
  },
  {
   "cell_type": "markdown",
   "id": "af35913d",
   "metadata": {},
   "source": [
    "#### Lệnh pop()\n",
    "\n",
    "Cú pháp:\n",
    "\n",
    "`<tên list>.pop(<vị trí cần xóa>)`\n",
    "\n",
    "<b>Ví dụ:</b>\n",
    "\n",
    "`a = [\"hi\",3,\"hello\",4]\n",
    "a.pop(3)`\n",
    "\n",
    "Sau khi thực hiện lệnh trên, a chỉ còn [\"hi\",3,\"hello\"]\n",
    "\n",
    "<b> Hãy khai báo một list bất kỳ, rồi xóa 1 phần tử trong nó bằng lệnh pop(), sau đó in list đó ra</b>"
   ]
  },
  {
   "cell_type": "code",
   "execution_count": 11,
   "id": "071259d0",
   "metadata": {},
   "outputs": [
    {
     "name": "stdout",
     "output_type": "stream",
     "text": [
      "[1, 2, 4, 5, 6]\n"
     ]
    }
   ],
   "source": [
    "a =[1,2,3,4,5,6]\n",
    "a.pop(2)\n",
    "print(a)"
   ]
  },
  {
   "cell_type": "markdown",
   "id": "a5137358",
   "metadata": {},
   "source": [
    "### Sao chép list\n",
    "\n",
    "###### Lưu ý: Nếu ta có list a, ta thực hiện lệnh b = a, list b sẽ bị ảnh hưởng khi list a có sự thay đổi\n",
    "\n",
    "<b> Ví dụ: </b>\n",
    "\n",
    "`a = [5,7,1]\n",
    "b = a\n",
    "a.remove(5)`\n",
    "\n",
    "Khi thực hiện 3 lệnh trên, b sẽ bằng [7,1], dù cho ta thực hiện lệnh `b = a` trước `a.remove(5)`\n",
    "\n",
    "<b> Kiểm chứng sự ảnh hưởng khi gán list </b>"
   ]
  },
  {
   "cell_type": "code",
   "execution_count": 15,
   "id": "d822a376",
   "metadata": {},
   "outputs": [
    {
     "name": "stdout",
     "output_type": "stream",
     "text": [
      "[2, 6, 8]\n",
      "[2, 6, 8]\n"
     ]
    }
   ],
   "source": [
    "a=[2,4,6,8]\n",
    "b=a\n",
    "a.remove(4)\n",
    "print(a)\n",
    "print(b)"
   ]
  },
  {
   "cell_type": "markdown",
   "id": "a3a454d0",
   "metadata": {},
   "source": [
    "### Lệnh copy()\n",
    "\n",
    "Cú pháp:\n",
    "\n",
    "`<tên list>.copy()`\n",
    "\n",
    "##### Dùng lệnh copy sẽ khắc phục được vấn đề gán list a cho b\n",
    "\n",
    "<b> Ví dụ: </b>\n",
    "\n",
    "`a = [5,7,1]\n",
    "b = a.copy()\n",
    "a.remove(5)`\n",
    "\n",
    "Khi thực hiện 3 lệnh trên, b vẫn sẽ bằng [5,7,1]\n",
    "\n",
    "Lúc này, b sẽ là một list mới độc lập hoàn toàn với a\n",
    "\n",
    "<b> Khai báo list a, dùng lệnh copy cho list b, rồi thêm phần tử vào list a, sau đó in cả 2 list lên màn hình</b>"
   ]
  },
  {
   "cell_type": "code",
   "execution_count": 14,
   "id": "8f5d2987",
   "metadata": {},
   "outputs": [
    {
     "name": "stdout",
     "output_type": "stream",
     "text": [
      "[1, 2, 4]\n",
      "[1, 2, 3, 4]\n"
     ]
    }
   ],
   "source": [
    "a=[1,2,3,4]\n",
    "b=a.copy()\n",
    "a.remove(3)\n",
    "print(a)\n",
    "print(b)"
   ]
  },
  {
   "cell_type": "markdown",
   "id": "8d04085d",
   "metadata": {},
   "source": [
    "### Lệnh len()\n",
    "\n",
    "Tương tự như chuỗi, ta có thể dùng lệnh len cho list để trả về số lượng của list\n",
    "\n",
    "<b> Ví dụ:</b>\n",
    "\n",
    "`a = [3,\"Hello\",5,\"hi\"]\n",
    "b = len(a)`\n",
    "\n",
    "Giá trị của b là 4\n",
    "\n",
    "<b> Khai báo list a, in lên độ dài của list a </b>"
   ]
  },
  {
   "cell_type": "code",
   "execution_count": 16,
   "id": "7a4248ff",
   "metadata": {},
   "outputs": [
    {
     "name": "stdout",
     "output_type": "stream",
     "text": [
      "5\n"
     ]
    }
   ],
   "source": [
    "a=['xin','chao',3,'anh','em']\n",
    "print(len(a))"
   ]
  },
  {
   "cell_type": "markdown",
   "id": "c5ba2d37",
   "metadata": {},
   "source": [
    "### Duyệt chuỗi bằng lệnh for\n",
    "\n",
    "<b> Duyệt chuỗi với vị trí </b>"
   ]
  },
  {
   "cell_type": "code",
   "execution_count": null,
   "id": "3cac5a9e",
   "metadata": {},
   "outputs": [],
   "source": []
  },
  {
   "cell_type": "markdown",
   "id": "807ede8c",
   "metadata": {},
   "source": [
    "<b> Duyệt chuỗi với giá trị từng phần tử</b>"
   ]
  },
  {
   "cell_type": "code",
   "execution_count": null,
   "id": "001a5392",
   "metadata": {},
   "outputs": [],
   "source": []
  },
  {
   "cell_type": "markdown",
   "id": "11f45588",
   "metadata": {},
   "source": [
    "### Bài tập"
   ]
  },
  {
   "cell_type": "markdown",
   "id": "908dc8b3",
   "metadata": {},
   "source": [
    "Nhập vào một dãy số nguyên dương (ngưng nhập nếu người dùng nhập -1)\n",
    "\n",
    "Sau khi nhập hãy:\n",
    "- In ra số lớn nhất trong dãy\n",
    "- In ra số bé nhất trong dãy\n",
    "- In ra dãy số nguyên tố tìm được trong dãy vừa nhập"
   ]
  },
  {
   "cell_type": "code",
   "execution_count": 4,
   "id": "ab70baed",
   "metadata": {},
   "outputs": [
    {
     "name": "stdout",
     "output_type": "stream",
     "text": [
      "Nhập số : 1\n",
      "Nhập số : 3\n",
      "Nhập số : 5\n",
      "Nhập số : 4\n",
      "Nhập số : 2\n",
      "Nhập số : 6\n",
      "Nhập số : 8\n",
      "Nhập số : 9\n",
      "Nhập số : 17\n",
      "Nhập số : -1\n",
      "[1, 3, 5, 4, 2, 6, 8, 9, 17]\n",
      "- Số lớn nhất là :  17\n",
      "- Số nhỏ nhất là :  1\n",
      "- Dãy số NT là :  [3, 5, 2, 17]\n"
     ]
    }
   ],
   "source": [
    "a = []\n",
    "so = int(input('Nhập số : '))\n",
    "\n",
    "while so != -1:\n",
    "    a.append(so)\n",
    "    so = int(input('Nhập số : '))\n",
    "\n",
    "print(a)\n",
    "\n",
    "maxx = a[0]\n",
    "minn = a[0]\n",
    "\n",
    "for i in a:\n",
    "    if i>maxx:\n",
    "        maxx=i\n",
    "    elif i<minn:\n",
    "        minn=i\n",
    "\n",
    "print('- Số lớn nhất là : ', maxx)\n",
    "print('- Số nhỏ nhất là : ', minn)\n",
    "\n",
    "\n",
    "def soNT(a):\n",
    "    if a<1:\n",
    "        return False\n",
    "    elif a==2:\n",
    "        return True\n",
    "    elif a>2:\n",
    "        for i in range (2,a):\n",
    "            if a%i == 0:\n",
    "                return False\n",
    "        return True\n",
    "\n",
    "b = []\n",
    "for i in a:\n",
    "    if soNT(i) == True:\n",
    "        b.append(i)\n",
    "        \n",
    "print('- Dãy số NT là : ',b)\n"
   ]
  },
  {
   "cell_type": "markdown",
   "id": "6165c233",
   "metadata": {},
   "source": [
    "Viết hàm với dữ liệu đầu vào bao gồm 3 tham số: list, a, b. Hàm này có công dụng tìm số lớn nhất trong đoạn từ vị trí a đến vị trí b trong list."
   ]
  },
  {
   "cell_type": "code",
   "execution_count": 9,
   "id": "df84ea6c",
   "metadata": {},
   "outputs": [
    {
     "name": "stdout",
     "output_type": "stream",
     "text": [
      "100\n",
      "1\n"
     ]
    }
   ],
   "source": [
    "def solonnhat(lst,a,b):\n",
    "    maxx = lst[a]\n",
    "    for i in range(a,b+1):\n",
    "        if i>maxx:\n",
    "            maxx=i\n",
    "    return maxx\n",
    "\n",
    "def sobenhat(lst,a,b):\n",
    "    minn = lst[a]\n",
    "    for i in range(a,b+1):\n",
    "        if i<minn:\n",
    "            minn=i\n",
    "    return minn\n",
    "\n",
    "lst = [1,2,3,4,5,6,7,100]\n",
    "print(solonnhat(lst,1,100))\n",
    "print(sobenhat(lst,1,100))"
   ]
  },
  {
   "cell_type": "markdown",
   "id": "c9019a81",
   "metadata": {},
   "source": [
    "Viết hàm có tham số đầu vào là list, giá trị trả về là số lượng số nguyên tố bé hơn 100 trong list"
   ]
  },
  {
   "cell_type": "code",
   "execution_count": 11,
   "id": "2ba6896f",
   "metadata": {},
   "outputs": [
    {
     "name": "stdout",
     "output_type": "stream",
     "text": [
      "8\n"
     ]
    }
   ],
   "source": [
    "def soNT(a):\n",
    "    if a < 1:\n",
    "        return False\n",
    "    elif a == 2:\n",
    "        return True\n",
    "    elif a > 2:\n",
    "        for i in range(2,a):\n",
    "            if a%i==0:\n",
    "                return False\n",
    "        return True\n",
    "\n",
    "def demsoNT(lst):\n",
    "    dem = 0\n",
    "    for i in range(len(lst)):\n",
    "        if soNT(lst[i]) and lst[i] <100:\n",
    "            dem+=1\n",
    "    lst = dem\n",
    "    return lst\n",
    " \n",
    "L = [1,2,3,4,5,6,7,8,73,79,83,89,100]\n",
    "print(demsoNT(L))"
   ]
  },
  {
   "cell_type": "markdown",
   "id": "a339cd48",
   "metadata": {},
   "source": [
    "Viết hàm tìm giá trị dương đầu tiên của list, nếu không có giá trị dương trả về -1"
   ]
  },
  {
   "cell_type": "code",
   "execution_count": 23,
   "id": "1cec86cb",
   "metadata": {},
   "outputs": [
    {
     "name": "stdout",
     "output_type": "stream",
     "text": [
      "-1\n"
     ]
    }
   ],
   "source": [
    "def giatriduong(L):\n",
    "    for i in L:\n",
    "        if i>0:\n",
    "            return i\n",
    "    return -1\n",
    "\n",
    "L = [-4,-3,-2,0]\n",
    "print(giatriduong(L))\n"
   ]
  },
  {
   "cell_type": "markdown",
   "id": "98660ebb",
   "metadata": {},
   "source": [
    "Viết hàm có 2 giá trị đầu vào là list và x. Tìm giá trị trong list xa x nhất"
   ]
  },
  {
   "cell_type": "code",
   "execution_count": 29,
   "id": "05ac0f24",
   "metadata": {},
   "outputs": [
    {
     "name": "stdout",
     "output_type": "stream",
     "text": [
      "8\n"
     ]
    }
   ],
   "source": [
    "def giatrixanhat(lst,x):\n",
    "    khoangcachmaxx = 0\n",
    "    for i in lst:\n",
    "        if abs(x-i) > khoangcachmaxx:\n",
    "            khoangcachmaxx = abs(x-i)\n",
    "    return khoangcachmaxx\n",
    "\n",
    "x=0\n",
    "lst = [1,2,8]\n",
    "print(giatrixanhat(lst,x))"
   ]
  },
  {
   "cell_type": "markdown",
   "id": "20363c0b",
   "metadata": {},
   "source": [
    "Một người dùng số tiền là U đô-la và V Euro để mua một loại nguyên liệu sản xuất. \n",
    "\n",
    "Có N công ty nước ngoài bán nguyên liệu trên được đánh số từ 1 đến N. Công ty thứ i có giá bán Ai đô la/1 kg nguyên liệu và Bi Euro/1 kg nguyên liệu. \n",
    "\n",
    "Tuy nhiên, tại mỗi công ty chỉ bán nguyên liệu cho một khách hàng hoặc theo đô-la, hoặc theo Euro. \n",
    "\n",
    "Hãy giúp người đó tìm cách chọn ra 2 công ty để mua hàng sao cho số lượng nguyên liệu sản xuất có thể mua được là nhiều nhất.\n",
    "\n",
    "Nhập vào: Từ bàn phím 3 số theo thứ tự : N U V (1 ≤ N ≤ 20; 1 ≤ U, V ≤ 1000) và N cặp số nguyên Ai, Bi (1 < Ai, Bi < 1000) (nhập lần lượng A1, B1 rồi A2, B2)\n",
    "\n",
    "In ra : Số lượng nguyên liệu S(kg) người đó mua được với 2 chữ số thập phân."
   ]
  },
  {
   "cell_type": "code",
   "execution_count": null,
   "id": "c4b9cebc",
   "metadata": {},
   "outputs": [
    {
     "name": "stdout",
     "output_type": "stream",
     "text": [
      "Nhap vao N: 5\n",
      "Nhap vao U: 2000\n",
      "Nhap vao V: 2000\n",
      "Nhap vap A0:1000\n",
      "Nhap vap B0:500\n",
      "Nhap vap A1:300\n",
      "Nhap vap B1:200\n",
      "Nhap vap A2:200\n",
      "Nhap vap B2:500\n",
      "Nhap vap A3:500\n",
      "Nhap vap B3:200\n",
      "Nhap vap A4:1000\n"
     ]
    }
   ],
   "source": [
    "N = int(input(\"Nhập vào N:\"))\n",
    "U = int(input(\"Nhập vào U:\"))\n",
    "V = int(input(\"Nhập vào V:\"))\n",
    "A = []\n",
    "B = []\n",
    "for i in range(N):\n",
    "    A.append(float(input(\"Nhập vào A\" + str(i) + \":\")))\n",
    "    B.append(float(input(\"Nhập vào B\" + str(i) + \":\")))\n",
    "\n",
    "def timvitrimin(l):\n",
    "    min = l[0]\n",
    "    kq = 0\n",
    "    for i in range(len(l)):\n",
    "        if min > l[i]:\n",
    "            min = l[i]\n",
    "            kq = i\n",
    "    return i\n",
    "\n",
    "vitria = timvitrimin(A)\n",
    "vitrib = timvitrimin(B)\n",
    "\n",
    "if vitria != vitrib:\n",
    "    print(U/A[vitria] + V/B[vitrib])\n",
    "else:\n",
    "    At = A.copy()\n",
    "    At[vitria] = 1000\n",
    "    vitrianhi = timvitrimin(At)\n",
    "    Bt = B.copy()\n",
    "    Bt[vitrib] = 1000\n",
    "    vitribnhi = timvitrimin(Bt)\n",
    "    S1 = U/A[vitria] + V/B[vitribnhi]\n",
    "    S2 = U/A[vitrianhi] + V/B[vitrib]\n",
    "    if S1 > s2:\n",
    "        print(S1)\n",
    "    else:\n",
    "        print(S2)\n"
   ]
  }
 ],
 "metadata": {
  "kernelspec": {
   "display_name": "Python 3 (ipykernel)",
   "language": "python",
   "name": "python3"
  },
  "language_info": {
   "codemirror_mode": {
    "name": "ipython",
    "version": 3
   },
   "file_extension": ".py",
   "mimetype": "text/x-python",
   "name": "python",
   "nbconvert_exporter": "python",
   "pygments_lexer": "ipython3",
   "version": "3.9.7"
  }
 },
 "nbformat": 4,
 "nbformat_minor": 5
}
